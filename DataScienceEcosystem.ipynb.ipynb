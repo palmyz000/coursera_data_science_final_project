{
 "cells": [
  {
   "cell_type": "markdown",
   "id": "7480a35c-685c-48e7-bb99-4ba0d7500aab",
   "metadata": {},
   "source": [
    "# Data Science Tools and Ecosystem"
   ]
  },
  {
   "cell_type": "markdown",
   "id": "a7d82428-3002-474c-aeb6-a1d934a9dc14",
   "metadata": {},
   "source": [
    "In this notebook, Data Science Tools and Ecosystem are summarized."
   ]
  },
  {
   "cell_type": "markdown",
   "id": "1afd297e-c311-43aa-aebd-28cb2f201da8",
   "metadata": {},
   "source": [
    "**Objectives:**\n",
    "* List popular languages for Data Science\n",
    "* List commonly used libraries for Data Science\n",
    "* Demonstrate evaluating arithmetic expressions in Python\n",
    "* Share tools used by Data Scientists"
   ]
  },
  {
   "cell_type": "markdown",
   "id": "b202783c-5784-4b3d-ac4a-94cf44bbeebe",
   "metadata": {},
   "source": [
    "**Some of the popular languages that Data Scientists use are:**\n",
    "* Python\n",
    "* R\n",
    "* SQL\n",
    "* Scala\n",
    "* Julia\n"
   ]
  },
  {
   "cell_type": "markdown",
   "id": "efef4ee0-61fa-4fca-811a-8e8e137bdf4e",
   "metadata": {},
   "source": [
    "**Some of the commonly used libraries used by Data Scientists include:**\n",
    "* Pandas\n",
    "* NumPy\n",
    "* Matplotlib\n",
    "* Seaborn\n",
    "* Scikit-learn\n",
    "* Pytorch\n",
    "* Keras\n",
    "* TensorFlow\n",
    "\n"
   ]
  },
  {
   "cell_type": "markdown",
   "id": "58675332-8f91-4618-8bd3-f68cacd446c3",
   "metadata": {},
   "source": [
    "| Data Science Tools       |\n",
    "|--------------------------|\n",
    "| Jupyter Notebook         |\n",
    "| RStudio                  |\n",
    "| Apache Zeppelin          |\n"
   ]
  },
  {
   "cell_type": "markdown",
   "id": "eaad4b08-238c-481e-a254-1d1b60b0f13b",
   "metadata": {},
   "source": [
    "### Below are a few examples of evaluating arithmetic expressions in Python."
   ]
  },
  {
   "cell_type": "code",
   "execution_count": 3,
   "id": "f4d11325-5c0c-4271-80f4-ae1172abd3eb",
   "metadata": {},
   "outputs": [
    {
     "data": {
      "text/plain": [
       "17"
      ]
     },
     "execution_count": 3,
     "metadata": {},
     "output_type": "execute_result"
    }
   ],
   "source": [
    "# This is a simple arithmetic expression to multiply then add integers\n",
    "(3 * 4) + 5"
   ]
  },
  {
   "cell_type": "code",
   "execution_count": 8,
   "id": "fd641f29-0c45-4881-a7ab-5650baa7db1c",
   "metadata": {},
   "outputs": [
    {
     "name": "stdout",
     "output_type": "stream",
     "text": [
      "200 minutes =3.3333333333333335 hours\n"
     ]
    }
   ],
   "source": [
    "# This will convert 200 minutes to hours by dividing by 60\n",
    "min =200\n",
    "hours = 60\n",
    "print(f\"200 minutes ={min/hours} hours\")"
   ]
  },
  {
   "cell_type": "markdown",
   "id": "cb1acd7f-e2fa-476f-a42a-e97615d96c94",
   "metadata": {},
   "source": [
    "## Author\n",
    "Suphawit MeeSak\n"
   ]
  }
 ],
 "metadata": {
  "kernelspec": {
   "display_name": "Python [conda env:base] *",
   "language": "python",
   "name": "conda-base-py"
  },
  "language_info": {
   "codemirror_mode": {
    "name": "ipython",
    "version": 3
   },
   "file_extension": ".py",
   "mimetype": "text/x-python",
   "name": "python",
   "nbconvert_exporter": "python",
   "pygments_lexer": "ipython3",
   "version": "3.12.7"
  }
 },
 "nbformat": 4,
 "nbformat_minor": 5
}
